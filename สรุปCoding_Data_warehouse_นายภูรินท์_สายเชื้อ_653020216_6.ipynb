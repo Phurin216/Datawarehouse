{
  "nbformat": 4,
  "nbformat_minor": 0,
  "metadata": {
    "colab": {
      "provenance": [],
      "authorship_tag": "ABX9TyMeiuZ/2JENoPwBhcmjW+DC",
      "include_colab_link": true
    },
    "kernelspec": {
      "name": "python3",
      "display_name": "Python 3"
    },
    "language_info": {
      "name": "python"
    }
  },
  "cells": [
    {
      "cell_type": "markdown",
      "metadata": {
        "id": "view-in-github",
        "colab_type": "text"
      },
      "source": [
        "<a href=\"https://colab.research.google.com/github/Phurin216/Datawarehouse/blob/main/%E0%B8%AA%E0%B8%A3%E0%B8%B8%E0%B8%9BCoding_Data_warehouse_%E0%B8%99%E0%B8%B2%E0%B8%A2%E0%B8%A0%E0%B8%B9%E0%B8%A3%E0%B8%B4%E0%B8%99%E0%B8%97%E0%B9%8C_%E0%B8%AA%E0%B8%B2%E0%B8%A2%E0%B9%80%E0%B8%8A%E0%B8%B7%E0%B9%89%E0%B8%AD_653020216_6.ipynb\" target=\"_parent\"><img src=\"https://colab.research.google.com/assets/colab-badge.svg\" alt=\"Open In Colab\"/></a>"
      ]
    },
    {
      "cell_type": "markdown",
      "source": [
        "#สรุปโค้ด Datawarehouse Midterm\n",
        "นายภูรินท์ สายเชื้อ 653020216-6"
      ],
      "metadata": {
        "id": "EYACd8PYjFyz"
      }
    },
    {
      "cell_type": "code",
      "source": [
        "#Def function\n",
        "\n",
        "def add_timestamp(df,colname):\n",
        "now = datetime.now()\n",
        "current_timestamp = now.strftime('%m/%d/%Y %H:%M:%S')\n",
        "df_new = (df.with_columns((pl.lit(current_timestamp)).alias(colname)\n",
        ")\n",
        ".pipe(change_dtypedatetime,colname)\n",
        ")\n",
        "return df_new\n",
        "def change_dtypedatetime(df,colname):\n",
        "format = '%m/%d/%Y %H:%M:%S'\n",
        "return df.with_columns(\n",
        "pl.col(colname).str.strptime(pl.Date,format=format)\n",
        ")"
      ],
      "metadata": {
        "id": "7Vu9Oj_li1mT"
      },
      "execution_count": null,
      "outputs": []
    },
    {
      "cell_type": "code",
      "execution_count": null,
      "metadata": {
        "id": "yNc6qgy4fgcY"
      },
      "outputs": [],
      "source": [
        "#โมดูลในการวิเคราะห์\n",
        "\n",
        "import pandas as pd\n",
        "import polars as pl\n",
        "import numpy as np\n",
        "import duckdb as dd\n",
        "import dlt\n",
        "import seaborn as sns\n",
        "import streamlit as st\n",
        "import sqlite3 as sq\n",
        "import matplotlib.pyplot as plt\n",
        "from datetime import datetime"
      ]
    },
    {
      "cell_type": "code",
      "source": [
        "#Dashboard\n",
        "\n",
        "import streamlit as st\n",
        "import pandas as pd\n",
        "import plotly.express as px\n",
        "\n",
        "# Sample sales data with two measures (sales and quantity)\n",
        "data = pd.DataFrame({\n",
        "'region': ['North America', 'North America', 'North America', 'South America', 'South America', 'Europe', 'Europe', 'Asia', 'Asia'],\n",
        "'country': ['USA', 'Canada', 'Mexico', 'Brazil', 'Argentina', 'Germany', 'France', 'China', 'India'],\n",
        "'product': ['A', 'A', 'B', 'B', 'C', 'C', 'D', 'D', 'E'],\n",
        "'sales': [100, 150, 200, 250, 300, 350, 400, 450, 500],\n",
        "'quantity': [10, 15, 20, 25, 30, 35, 40, 45, 50]\n",
        "})"
      ],
      "metadata": {
        "id": "UelTfe5Fh2hk"
      },
      "execution_count": null,
      "outputs": []
    },
    {
      "cell_type": "code",
      "source": [
        "#Import duckdb And database\n",
        "\n",
        "name_db = 'load_nw2dw.duckdb'\n",
        "conn = dd.connect(name_db)\n",
        "dim_customers = pl.read_database(\n",
        "query= \"SELECT * FROM northwind_dw.dim_customers\",\n",
        "connection=conn\n",
        ")\n",
        "dim_time = pl.read_database(\n",
        "query= \"SELECT * FROM northwind_dw.dim_date\",\n",
        "connection=conn\n",
        ")\n",
        "fact_sales = pl.read_database(\n",
        "query= \"SELECT * FROM northwind_dw.fact_sale\",\n",
        "connection=conn\n",
        ")\n",
        "\n",
        "dd.commit\n",
        "dd.close()"
      ],
      "metadata": {
        "id": "psWCKjCVh2vF"
      },
      "execution_count": null,
      "outputs": []
    },
    {
      "cell_type": "code",
      "source": [
        "#สำหรับ staging database\n",
        "\n",
        "pd_suppliers = (pl.read_csv('./data/northwind/suppliers.csv')\n",
        ".pipe(recolname,{'id':'supplier_id'})\n",
        ".pipe(add_timestamp,'ingestion_timestamp')\n",
        ".to_pandas()\n",
        ")\n",
        "\n",
        "pd_orders = (pl.read_csv('./data/northwind/orders.csv')\n",
        ".pipe(add_timestamp,'ingestion_timestamp')\n",
        ".pipe(recolname,{'id':'order_id'})\n",
        ".pipe(sort_by,'order_id')\n",
        ".to_pandas()\n",
        ")\n",
        "\n",
        "pd_orders_details = (pl.read_csv('./data/northwind/order_details.csv')\n",
        ".pipe(add_timestamp,'ingestion_timestamp')\n",
        ".pipe(recolname,{'id':'orderdetail_id'})\n",
        ".to_pandas()\n",
        ")"
      ],
      "metadata": {
        "id": "YV0pQVTriTCe"
      },
      "execution_count": null,
      "outputs": []
    },
    {
      "cell_type": "code",
      "source": [
        "#Read Stg\n",
        "\n",
        "- Read `stg_orders` tabel with `northwind_stg` schema from `load_northwind.duckdb` and naming `df_order`.\n",
        "- Read `stg_orders_details` tabel with `northwind_stg` schema from `load_northwind.duckdb` and naming `df_order_detail`.\n",
        "- From `df_order` table, select columns: ['order_id','customer_id','employee_id','shipper_id',\n",
        "'order_date','shipped_date','paid_date']\n",
        "- Change dtype of `order_date` string type to `Date` dtype.\n",
        "- From `df_order_detail` table, select columns: ['order_id','product_id',\n",
        "'status_id','purchase_order_id','inventory_id','quantity','unit_price','discount']\n",
        "- Perform left join `df_order_detail` table to `df_order` and naming `fact_table`.\n",
        "- Add timstamp column with column name `insertion_timestamp`."
      ],
      "metadata": {
        "id": "FudzyC4ZiXZE"
      },
      "execution_count": null,
      "outputs": []
    },
    {
      "cell_type": "code",
      "source": [
        "#Setting data base\n",
        "\n",
        "## 1.Setting start and end dates\n",
        "start_date = pl.datetime(2006, 1, 1)\n",
        "end_date = pl.datetime(2050, 1, 1)\n",
        "\n",
        "## 2.Generate date range\n",
        "date_range = pl.date_range(start=start_date, end=end_date, interval=\"1d\", eager=True)\n",
        "\n",
        "## 3.Convert to DataFrame and setting column name as 'date'\n",
        "df_date = pl.DataFrame({\n",
        "\"date\": date_range\n",
        "})"
      ],
      "metadata": {
        "id": "AxcFhb0GieFs"
      },
      "execution_count": null,
      "outputs": []
    },
    {
      "cell_type": "code",
      "source": [
        "#่Date time\n",
        "\n",
        "\n",
        "pd_date = (df_date.select(\n",
        "pl.col(\"date\").dt.strftime(\"%m-%d-%Y\").alias(\"date_id\"),\n",
        "pl.col(\"date\").dt.date().alias(\"order_date\"),\n",
        "pl.col(\"date\").dt.year().alias(\"year\"),\n",
        "pl.col(\"date\").dt.week().alias(\"year_week\"),\n",
        "pl.col(\"date\").dt.ordinal_day().alias(\"year_day\"),\n",
        "pl.col(\"date\").dt.year().alias(\"fiscal_year\"),\n",
        "pl.col(\"date\").dt.quarter().alias(\"fiscal_qtr\"),\n",
        "pl.col(\"date\").dt.strftime(\"%B\").alias(\"month_name\"),\n",
        "pl.col(\"date\").dt.strftime(\"%W\").alias(\"week_day\"),\n",
        "pl.col(\"date\").dt.strftime(\"%A\").alias(\"day_name\"),\n",
        ").with_columns(pl.col('day_name').is_in(['Saturday','Sunday']).alias(\"WeekendFlag\"))\n",
        ".to_pandas()\n",
        ")"
      ],
      "metadata": {
        "id": "Omw916ZVimrK"
      },
      "execution_count": null,
      "outputs": []
    }
  ]
}